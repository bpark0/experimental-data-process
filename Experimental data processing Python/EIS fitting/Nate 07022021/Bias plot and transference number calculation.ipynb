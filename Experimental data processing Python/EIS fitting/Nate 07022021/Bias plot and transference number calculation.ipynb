{
 "cells": [
  {
   "cell_type": "code",
   "execution_count": 1,
   "id": "7df4690b-91a7-40e0-adac-e69c6b945017",
   "metadata": {},
   "outputs": [],
   "source": [
    "import numpy as np\n",
    "import pandas as pd\n",
    "import matplotlib.pyplot as plt\n",
    "%matplotlib inline"
   ]
  },
  {
   "cell_type": "code",
   "execution_count": 20,
   "id": "5498095b-b124-4036-88a4-ac015f918826",
   "metadata": {},
   "outputs": [
    {
     "data": {
      "text/html": [
       "<div>\n",
       "<style scoped>\n",
       "    .dataframe tbody tr th:only-of-type {\n",
       "        vertical-align: middle;\n",
       "    }\n",
       "\n",
       "    .dataframe tbody tr th {\n",
       "        vertical-align: top;\n",
       "    }\n",
       "\n",
       "    .dataframe thead th {\n",
       "        text-align: right;\n",
       "    }\n",
       "</style>\n",
       "<table border=\"1\" class=\"dataframe\">\n",
       "  <thead>\n",
       "    <tr style=\"text-align: right;\">\n",
       "      <th></th>\n",
       "      <th>Potential (V)</th>\n",
       "      <th>Current (A)</th>\n",
       "      <th>Elapsed Time (s)</th>\n",
       "      <th>Zre (ohms)</th>\n",
       "      <th>Zim (ohms)</th>\n",
       "      <th>Unnamed: 5</th>\n",
       "    </tr>\n",
       "  </thead>\n",
       "  <tbody>\n",
       "    <tr>\n",
       "      <th>0</th>\n",
       "      <td>0.015642</td>\n",
       "      <td>6.140000e-08</td>\n",
       "      <td>60.000</td>\n",
       "      <td>0</td>\n",
       "      <td>0</td>\n",
       "      <td>NaN</td>\n",
       "    </tr>\n",
       "    <tr>\n",
       "      <th>1</th>\n",
       "      <td>0.016256</td>\n",
       "      <td>6.140000e-08</td>\n",
       "      <td>120.000</td>\n",
       "      <td>0</td>\n",
       "      <td>0</td>\n",
       "      <td>NaN</td>\n",
       "    </tr>\n",
       "    <tr>\n",
       "      <th>2</th>\n",
       "      <td>0.015642</td>\n",
       "      <td>6.140000e-08</td>\n",
       "      <td>180.000</td>\n",
       "      <td>0</td>\n",
       "      <td>0</td>\n",
       "      <td>NaN</td>\n",
       "    </tr>\n",
       "    <tr>\n",
       "      <th>3</th>\n",
       "      <td>0.015642</td>\n",
       "      <td>6.140000e-08</td>\n",
       "      <td>240.000</td>\n",
       "      <td>0</td>\n",
       "      <td>0</td>\n",
       "      <td>NaN</td>\n",
       "    </tr>\n",
       "    <tr>\n",
       "      <th>4</th>\n",
       "      <td>0.015642</td>\n",
       "      <td>6.140000e-08</td>\n",
       "      <td>300.000</td>\n",
       "      <td>0</td>\n",
       "      <td>0</td>\n",
       "      <td>NaN</td>\n",
       "    </tr>\n",
       "    <tr>\n",
       "      <th>...</th>\n",
       "      <td>...</td>\n",
       "      <td>...</td>\n",
       "      <td>...</td>\n",
       "      <td>...</td>\n",
       "      <td>...</td>\n",
       "      <td>...</td>\n",
       "    </tr>\n",
       "    <tr>\n",
       "      <th>5724</th>\n",
       "      <td>-0.010121</td>\n",
       "      <td>-1.174379e-06</td>\n",
       "      <td>37771.099</td>\n",
       "      <td>0</td>\n",
       "      <td>0</td>\n",
       "      <td>NaN</td>\n",
       "    </tr>\n",
       "    <tr>\n",
       "      <th>5725</th>\n",
       "      <td>-0.010121</td>\n",
       "      <td>-1.174010e-06</td>\n",
       "      <td>37781.099</td>\n",
       "      <td>0</td>\n",
       "      <td>0</td>\n",
       "      <td>NaN</td>\n",
       "    </tr>\n",
       "    <tr>\n",
       "      <th>5726</th>\n",
       "      <td>-0.010121</td>\n",
       "      <td>-1.174194e-06</td>\n",
       "      <td>37791.099</td>\n",
       "      <td>0</td>\n",
       "      <td>0</td>\n",
       "      <td>NaN</td>\n",
       "    </tr>\n",
       "    <tr>\n",
       "      <th>5727</th>\n",
       "      <td>-0.010121</td>\n",
       "      <td>-1.173888e-06</td>\n",
       "      <td>37801.099</td>\n",
       "      <td>0</td>\n",
       "      <td>0</td>\n",
       "      <td>NaN</td>\n",
       "    </tr>\n",
       "    <tr>\n",
       "      <th>5728</th>\n",
       "      <td>-0.010121</td>\n",
       "      <td>-1.168796e-06</td>\n",
       "      <td>37811.099</td>\n",
       "      <td>0</td>\n",
       "      <td>0</td>\n",
       "      <td>NaN</td>\n",
       "    </tr>\n",
       "  </tbody>\n",
       "</table>\n",
       "<p>5729 rows × 6 columns</p>\n",
       "</div>"
      ],
      "text/plain": [
       "      Potential (V)   Current (A)  Elapsed Time (s)  Zre (ohms)  Zim (ohms)  \\\n",
       "0          0.015642  6.140000e-08            60.000           0           0   \n",
       "1          0.016256  6.140000e-08           120.000           0           0   \n",
       "2          0.015642  6.140000e-08           180.000           0           0   \n",
       "3          0.015642  6.140000e-08           240.000           0           0   \n",
       "4          0.015642  6.140000e-08           300.000           0           0   \n",
       "...             ...           ...               ...         ...         ...   \n",
       "5724      -0.010121 -1.174379e-06         37771.099           0           0   \n",
       "5725      -0.010121 -1.174010e-06         37781.099           0           0   \n",
       "5726      -0.010121 -1.174194e-06         37791.099           0           0   \n",
       "5727      -0.010121 -1.173888e-06         37801.099           0           0   \n",
       "5728      -0.010121 -1.168796e-06         37811.099           0           0   \n",
       "\n",
       "      Unnamed: 5  \n",
       "0            NaN  \n",
       "1            NaN  \n",
       "2            NaN  \n",
       "3            NaN  \n",
       "4            NaN  \n",
       "...          ...  \n",
       "5724         NaN  \n",
       "5725         NaN  \n",
       "5726         NaN  \n",
       "5727         NaN  \n",
       "5728         NaN  \n",
       "\n",
       "[5729 rows x 6 columns]"
      ]
     },
     "execution_count": 20,
     "metadata": {},
     "output_type": "execute_result"
    }
   ],
   "source": [
    "df = pd.read_csv(\"Bias.txt\", delimiter=\"\\t\")\n",
    "potential = df.iloc[:,0].values\n",
    "current = df.iloc[:, 1].values\n",
    "time = df.iloc[:, 2]"
   ]
  },
  {
   "cell_type": "code",
   "execution_count": 14,
   "id": "92fc6b74-d645-4d69-9b28-fcb993e8d62c",
   "metadata": {},
   "outputs": [
    {
     "data": {
      "image/png": "[encoded data removed]",
      "text/plain": [
       "<Figure size 432x288 with 1 Axes>"
      ]
     },
     "metadata": {
      "needs_background": "light"
     },
     "output_type": "display_data"
    },
    {
     "data": {
      "image/png": "[encoded data removed]",
      "text/plain": [
       "<Figure size 432x288 with 1 Axes>"
      ]
     },
     "metadata": {
      "needs_background": "light"
     },
     "output_type": "display_data"
    }
   ],
   "source": [
    "plt.figure()\n",
    "plt.title(\"Current vs time\")\n",
    "plt.plot(time, current*1e6)\n",
    "plt.ylim(0.1, -3)\n",
    "plt.ylabel(\"Current (µA)\")\n",
    "plt.xlabel(\"Time (s)\")\n",
    "plt.show()\n",
    "\n",
    "plt.figure()\n",
    "plt.title(\"Potential vs time\")\n",
    "plt.plot(time, potential)\n",
    "plt.ylabel(\"Potential (V)\")\n",
    "plt.xlabel(\"Time (s)\")\n",
    "plt.show()"
   ]
  },
  {
   "cell_type": "code",
   "execution_count": 33,
   "id": "cc290f2f-5a22-4294-a4b1-8d14e788a2fd",
   "metadata": {},
   "outputs": [
    {
     "name": "stdout",
     "output_type": "stream",
     "text": [
      "Transference number is:  0.6897608902243182\n"
     ]
    }
   ],
   "source": [
    "# Transference number calculation using R1 from 2 circuits\n",
    "\n",
    "initial_current = current.min()\n",
    "steady_state_current = current[-1]\n",
    "\n",
    "initial_R1 = 2974.857323\n",
    "steady_state_R1 = 1453.869048\n",
    "\n",
    "applied_potential = np.abs(potential[-1])\n",
    "\n",
    "transference_number = steady_state_current*(applied_potential-initial_current*initial_R1)/(initial_current*(applied_potential-steady_state_current*steady_state_R1))\n",
    "\n",
    "print(\"Transference number is: \",transference_number)"
   ]
  },
  {
   "cell_type": "code",
   "execution_count": 34,
   "id": "53f933e2-5d03-4edd-93b8-c3b2d3b918c6",
   "metadata": {},
   "outputs": [
    {
     "name": "stdout",
     "output_type": "stream",
     "text": [
      "Transference number is:  0.5753649106579487\n"
     ]
    }
   ],
   "source": [
    "# Transference number calculation using R2 from 2 circuits\n",
    "\n",
    "initial_current = current.min()\n",
    "steady_state_current = current[-1]\n",
    "\n",
    "initial_R2 = 4434.394604\n",
    "steady_state_R2 = 6001.338092\n",
    "\n",
    "applied_potential = np.abs(potential[-1])\n",
    "\n",
    "transference_number = steady_state_current*(applied_potential-initial_current*initial_R2)/(initial_current*(applied_potential-steady_state_current*steady_state_R2))\n",
    "\n",
    "print(\"Transference number is: \",transference_number)"
   ]
  },
  {
   "cell_type": "code",
   "execution_count": 35,
   "id": "ecd00dd7-c2a1-4708-8896-361a5ef1e29e",
   "metadata": {},
   "outputs": [
    {
     "name": "stdout",
     "output_type": "stream",
     "text": [
      "Transference number is:  0.708061452774438\n"
     ]
    }
   ],
   "source": [
    "# Transference number calculation using R1+R2 from 2 circuits\n",
    "\n",
    "initial_current = current.min()\n",
    "steady_state_current = current[-1]\n",
    "\n",
    "initial_Rsum = 2974.857323 + 4434.394604\n",
    "steady_state_Rsum = 1453.869048 + 6001.338092\n",
    "\n",
    "applied_potential = np.abs(potential[-1])\n",
    "\n",
    "transference_number = steady_state_current*(applied_potential-initial_current*initial_Rsum)/(initial_current*(applied_potential-steady_state_current*steady_state_Rsum))\n",
    "\n",
    "print(\"Transference number is: \",transference_number)"
   ]
  },
  {
   "cell_type": "code",
   "execution_count": 36,
   "id": "dc6d85db-0d2d-4b99-8571-0a6c0dd04138",
   "metadata": {},
   "outputs": [
    {
     "name": "stdout",
     "output_type": "stream",
     "text": [
      "Transference number is:  0.7170461171728284\n"
     ]
    }
   ],
   "source": [
    "# Transference number calculation using R from 1 circuit\n",
    "\n",
    "initial_current = current.min()\n",
    "steady_state_current = current[-1]\n",
    "\n",
    "initial_R = 7509.692674\n",
    "steady_state_R = 7393.365159\n",
    "\n",
    "applied_potential = np.abs(potential[-1])\n",
    "\n",
    "transference_number = steady_state_current*(applied_potential-initial_current*initial_R)/(initial_current*(applied_potential-steady_state_current*steady_state_R))\n",
    "\n",
    "print(\"Transference number is: \",transference_number)"
   ]
  },
  {
   "cell_type": "code",
   "execution_count": null,
   "id": "88a76b52-e600-490a-b6d0-9d640a5197cb",
   "metadata": {},
   "outputs": [],
   "source": []
  }
 ],
 "metadata": {
  "kernelspec": {
   "display_name": "Python 3",
   "language": "python",
   "name": "python3"
  },
  "language_info": {
   "codemirror_mode": {
    "name": "ipython",
    "version": 3
   },
   "file_extension": ".py",
   "mimetype": "text/x-python",
   "name": "python",
   "nbconvert_exporter": "python",
   "pygments_lexer": "ipython3",
   "version": "3.8.8"
  }
 },
 "nbformat": 4,
 "nbformat_minor": 5
}
