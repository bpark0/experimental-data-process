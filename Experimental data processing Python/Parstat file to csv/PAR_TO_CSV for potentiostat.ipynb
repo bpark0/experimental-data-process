{
 "cells": [
  {
   "cell_type": "code",
   "execution_count": 4,
   "id": "6b0079e4-32d0-4658-a689-d5e74a836ac2",
   "metadata": {},
   "outputs": [
    {
     "name": "stdout",
     "output_type": "stream",
     "text": [
      "['Transference_BP301-1+C_MgTFSI_TETRAGLYME_Mg3Bi2_RT_before_afterCV.par']\n",
      "['Segment', 'Point #', 'Potential (V)', 'Current (A)', 'Elapsed Time (s)', 'ADC Sync Input(V)', 'Current Range', 'Status', 'E Applied(V)', 'Frequency (Hz)', 'E Real', 'E Imag', 'I Real', 'I Imag', 'Zre (ohms)', 'Zim (ohms)', 'E2 Status', 'E2(V)', 'E2 Real', 'E2 Imag', 'Z2 Real', 'Z2 Imag', 'ActionId', 'AC Amplitude']\n"
     ]
    }
   ],
   "source": [
    "import numpy as np\n",
    "import pandas as pd\n",
    "import matplotlib.pyplot as plt\n",
    "import glob\n",
    "%matplotlib inline\n",
    "\n",
    "plt.rcParams['font.family'] = 'Times New Roman'\n",
    "plt.rcParams['font.size'] = 15\n",
    "\n",
    "def open_par(filename):\n",
    "    \n",
    "    # temporary variables for with open\n",
    "    data_lines = []\n",
    "    data_begin = 0\n",
    "    data_end = 0\n",
    "    \n",
    "    #open the file as text and read numbers and columns\n",
    "    with open(filename,mode='r') as text:\n",
    "        line = text.readlines()\n",
    "        for i in range(len(line)):\n",
    "            \n",
    "            if line[i][:10] == \"<Segment1>\":\n",
    "                data_begin = i\n",
    "\n",
    "            if (data_begin > 0) and (i > data_begin+2):\n",
    "                data_lines.append(line[i].rstrip(\"\\n\"))\n",
    "\n",
    "            if line[i][:11] == \"</Segment1>\":\n",
    "                data_end = i\n",
    "                break\n",
    "\n",
    "    # extract column and edit names of columns\n",
    "    columns = data_lines[0].split(\", \")\n",
    "    columns[0] = \"Segment\"\n",
    "    columns[2] = \"Potential (V)\"\n",
    "    columns[3] = \"Current (A)\"\n",
    "    columns[4] = \"Elapsed Time (s)\"\n",
    "    columns[9] = \"Frequency (Hz)\"\n",
    "    columns[14] = \"Zre (ohms)\"\n",
    "    columns[15] = \"Zim (ohms)\"\n",
    "\n",
    "    columns = columns[:-1] # remove the last column \"0\"\n",
    "    print(columns)\n",
    "    # extract data points into a numpy array\n",
    "    data_lines_points = data_lines[1:-1] # data points only (excluding column)\n",
    "    data_points_list = []\n",
    "    for i in range(len(data_lines_points)):\n",
    "        points_temp = [float(item) for item in data_lines_points[i].split(\",\")]\n",
    "        data_points_list.append(points_temp)\n",
    "    data_points_array = np.array(data_points_list)\n",
    "\n",
    "    # turn the numpy array to \n",
    "    data = pd.DataFrame(data_points_array, columns = columns)\n",
    "    return data\n",
    "    \n",
    "filenames = glob.glob(\"*.par\")\n",
    "print(filenames)\n",
    "\n",
    "for i in range(len(filenames)):\n",
    "    data = open_par(filenames[i])\n",
    "    data.to_csv(filenames[i][:-4]+\".csv\",index=False)"
   ]
  },
  {
   "cell_type": "code",
   "execution_count": null,
   "id": "4d059f05-cab8-4721-8eab-87bfb80764ca",
   "metadata": {},
   "outputs": [],
   "source": []
  }
 ],
 "metadata": {
  "kernelspec": {
   "display_name": "Python 3",
   "language": "python",
   "name": "python3"
  },
  "language_info": {
   "codemirror_mode": {
    "name": "ipython",
    "version": 3
   },
   "file_extension": ".py",
   "mimetype": "text/x-python",
   "name": "python",
   "nbconvert_exporter": "python",
   "pygments_lexer": "ipython3",
   "version": "3.8.10"
  }
 },
 "nbformat": 4,
 "nbformat_minor": 5
}
